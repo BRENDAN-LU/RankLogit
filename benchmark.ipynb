{
 "cells": [
  {
   "cell_type": "code",
   "execution_count": 3,
   "metadata": {},
   "outputs": [],
   "source": [
    "import numpy as np \n",
    "%load_ext Cython"
   ]
  },
  {
   "cell_type": "code",
   "execution_count": 4,
   "metadata": {},
   "outputs": [],
   "source": [
    "%%cython\n",
    "import numpy as np\n",
    "cimport cython\n",
    "\n",
    "# C function to generate the product of the denominators\n",
    "# We turn off bounds checking an negative indicies to get C like speed\n",
    "@cython.boundscheck(False)\n",
    "@cython.wraparound(False)\n",
    "@cython.initializedcheck(False) # turn off Cython checking for memoryview initialization\n",
    "cdef float calc_product(double[:] a, Py_ssize_t n, double d):\n",
    "\n",
    "    cdef double s = a[n-1] + d   # Inner sum\n",
    "    cdef double p = s            # Product\n",
    "    cdef Py_ssize_t i\n",
    "    cdef double result\n",
    "\n",
    "    for i in range(n-2,-1,-1):\n",
    "        s += a[i]\n",
    "        p *= s\n",
    "\n",
    "    result = 1.0/p\n",
    "\n",
    "    return result\n",
    "\n",
    "# Python function to calculate permutations and evaluate expression\n",
    "# We turn off bounds checking and negative indicies to get C like speed\n",
    "@cython.boundscheck(False)\n",
    "@cython.wraparound(False)\n",
    "@cython.initializedcheck(False) # turn off Cython checking for memoryview initialization\n",
    "def permuteexpression(t, dp):\n",
    "\n",
    "    # We capture the length of the array as we will need that later\n",
    "    cdef Py_ssize_t n = len(t)\n",
    "    \n",
    "    # Create a copy of our input tuple and get a memoryview of it\n",
    "    # so we can manipulate it efficiently from C\n",
    "    # This will be our first permutation.\n",
    "    # Subsequent permutations will involve doing swaps of this memoryview\n",
    "    cdef double[:] a = t.copy()\n",
    "\n",
    "    # Convert python float to C float as we use this often\n",
    "    cdef double d = dp\n",
    "\n",
    "    # Reserve memory for local indexing array\n",
    "    # Assume 64 bit pointers i.e. Py_ssize_t is same as np.int64\n",
    "    cnp = np.zeros(n, dtype=np.int64)\n",
    "\n",
    "    # Get a memoryview of our indexing array for efficient C manipulation\n",
    "    cdef Py_ssize_t[:] c = cnp\n",
    "\n",
    "    # Define remaining local variables\n",
    "    cdef Py_ssize_t i\n",
    "    cdef double tmp\n",
    "    cdef double outer_sum = calc_product(a, n, d) # Process first permutation\n",
    "    cdef double numerator = 1.0\n",
    "\n",
    "    # Calculate factored out product\n",
    "    for i in range(n):\n",
    "        numerator *= a[i]\n",
    "\n",
    "    # https://en.wikipedia.org/wiki/Heap%27s_algorithm\n",
    "    # Generate the remaining permutations\n",
    "    i = 1\n",
    "    while i < n:\n",
    "        if c[i] < i:\n",
    "            if i % 2 == 0:\n",
    "                # Swap a[0] with a[i]\n",
    "                tmp = a[0]\n",
    "                a[0] = a[i]\n",
    "                a[i] = tmp\n",
    "\n",
    "            else:\n",
    "                # Swap a[c[i]] with a[i]\n",
    "                tmp = a[c[i]]\n",
    "                a[c[i]] = a[i]\n",
    "                a[i] = tmp\n",
    "\n",
    "            # Process new permutation\n",
    "            outer_sum += calc_product(a, n, d)\n",
    "\n",
    "            c[i] += 1\n",
    "            i = 1\n",
    "\n",
    "        else:\n",
    "            c[i] = 0\n",
    "            i += 1\n",
    "\n",
    "    return numerator * outer_sum\n"
   ]
  },
  {
   "cell_type": "code",
   "execution_count": 5,
   "metadata": {},
   "outputs": [],
   "source": [
    "import test1"
   ]
  },
  {
   "cell_type": "code",
   "execution_count": 13,
   "metadata": {},
   "outputs": [],
   "source": [
    "import numpy as np\n",
    "arr = np.arange(1, 8).astype(np.float64)"
   ]
  },
  {
   "cell_type": "code",
   "execution_count": 14,
   "metadata": {},
   "outputs": [
    {
     "data": {
      "text/plain": [
       "0.02733810804784298"
      ]
     },
     "execution_count": 14,
     "metadata": {},
     "output_type": "execute_result"
    }
   ],
   "source": [
    "\n",
    "test1._sigma_permute(arr, 5.6)"
   ]
  },
  {
   "cell_type": "code",
   "execution_count": 15,
   "metadata": {},
   "outputs": [
    {
     "data": {
      "text/plain": [
       "0.02733810789645741"
      ]
     },
     "execution_count": 15,
     "metadata": {},
     "output_type": "execute_result"
    }
   ],
   "source": [
    "\n",
    "permuteexpression(arr, 5.6)"
   ]
  },
  {
   "cell_type": "code",
   "execution_count": null,
   "metadata": {},
   "outputs": [],
   "source": []
  },
  {
   "cell_type": "code",
   "execution_count": null,
   "metadata": {},
   "outputs": [],
   "source": []
  }
 ],
 "metadata": {
  "kernelspec": {
   "display_name": "Python 3",
   "language": "python",
   "name": "python3"
  },
  "language_info": {
   "codemirror_mode": {
    "name": "ipython",
    "version": 3
   },
   "file_extension": ".py",
   "mimetype": "text/x-python",
   "name": "python",
   "nbconvert_exporter": "python",
   "pygments_lexer": "ipython3",
   "version": "3.10.7"
  },
  "orig_nbformat": 4
 },
 "nbformat": 4,
 "nbformat_minor": 2
}

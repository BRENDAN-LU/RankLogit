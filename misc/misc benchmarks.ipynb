{
 "cells": [
  {
   "cell_type": "code",
   "execution_count": null,
   "id": "a92c302e-8c78-475c-8df3-9521de49961d",
   "metadata": {},
   "outputs": [],
   "source": [
    "import numpy as np\n",
    "import random\n",
    "TEST_SIZE = 8"
   ]
  },
  {
   "cell_type": "code",
   "execution_count": null,
   "id": "4990d830-ae74-4ca1-82d8-ec53a78e3f8d",
   "metadata": {},
   "outputs": [],
   "source": [
    "l1 = [random.random() for i in range (TEST_SIZE)]\n",
    "l2 = [random.random() for i in range (TEST_SIZE)]"
   ]
  },
  {
   "cell_type": "code",
   "execution_count": null,
   "id": "7b994bf7-e4fe-443c-894f-833dc7b158b9",
   "metadata": {},
   "outputs": [],
   "source": [
    "l2pnp = np.array(l2) # pre-np-arrayed list, representing the weights"
   ]
  },
  {
   "cell_type": "code",
   "execution_count": null,
   "id": "761d0511-ce8d-4be3-a27b-df9879253412",
   "metadata": {},
   "outputs": [],
   "source": [
    "%%timeit\n",
    "l1np = np.array(l1)\n",
    "prod = l1np * l2pnp\n",
    "norm = np.sum(prod)\n",
    "norm_prod = prod / norm"
   ]
  },
  {
   "cell_type": "code",
   "execution_count": null,
   "id": "20b7d2c9-d1b4-455d-9bac-5db22c75b79c",
   "metadata": {},
   "outputs": [],
   "source": [
    "%%timeit\n",
    "prod2 = [a*b for a, b in zip(l1, l2)]\n",
    "norm2 = sum(prod2)\n",
    "norm_prod2 = [x/norm2 for x in prod2]"
   ]
  },
  {
   "cell_type": "code",
   "execution_count": null,
   "id": "631e397c-dfe3-45ff-805b-00fef0ac1a16",
   "metadata": {},
   "outputs": [],
   "source": [
    "from operator import mul"
   ]
  },
  {
   "cell_type": "code",
   "execution_count": null,
   "id": "ee859a93-e634-4aa6-9ca1-0fbb9a38f15a",
   "metadata": {},
   "outputs": [],
   "source": [
    "%%timeit\n",
    "prod3 = map(mul, l1, l2)\n",
    "norm3 = sum(prod3) \n",
    "norm_prod3 = [x/norm3 for x in prod3]"
   ]
  },
  {
   "cell_type": "code",
   "execution_count": null,
   "id": "c9dc8a4b",
   "metadata": {},
   "outputs": [],
   "source": [
    "%timeit np.argmax(l2)"
   ]
  },
  {
   "cell_type": "code",
   "execution_count": null,
   "id": "d8027daf",
   "metadata": {},
   "outputs": [],
   "source": [
    "%timeit min(range(len(l2)), key=l2.__getitem__)"
   ]
  },
  {
   "cell_type": "code",
   "execution_count": null,
   "id": "6f6f8eb4",
   "metadata": {},
   "outputs": [],
   "source": [
    "%%timeit\n",
    "prod = 1\n",
    "for x in l2: \n",
    "    prod *= x"
   ]
  },
  {
   "cell_type": "code",
   "execution_count": null,
   "id": "978e7d71",
   "metadata": {},
   "outputs": [],
   "source": [
    "from functools import reduce"
   ]
  },
  {
   "cell_type": "code",
   "execution_count": null,
   "id": "2a773cc9",
   "metadata": {},
   "outputs": [],
   "source": [
    "%%timeit\n",
    "reduce(mul, l2, 1)"
   ]
  },
  {
   "cell_type": "code",
   "execution_count": null,
   "id": "a345168e",
   "metadata": {},
   "outputs": [],
   "source": [
    "%%timeit\n",
    "reduce(lambda x, y: x*y, l2, 1)"
   ]
  },
  {
   "cell_type": "code",
   "execution_count": null,
   "id": "821d17e7",
   "metadata": {},
   "outputs": [],
   "source": [
    "import math"
   ]
  },
  {
   "cell_type": "code",
   "execution_count": null,
   "id": "dd593513",
   "metadata": {},
   "outputs": [],
   "source": [
    "%%timeit\n",
    "math.prod(l2)"
   ]
  },
  {
   "cell_type": "code",
   "execution_count": null,
   "id": "f6aab74b",
   "metadata": {},
   "outputs": [],
   "source": [
    "%%timeit\n",
    "np.prod(l2)"
   ]
  },
  {
   "cell_type": "code",
   "execution_count": null,
   "id": "93942d36",
   "metadata": {},
   "outputs": [],
   "source": [
    "%load_ext Cython"
   ]
  },
  {
   "cell_type": "code",
   "execution_count": null,
   "id": "e60a281d",
   "metadata": {},
   "outputs": [],
   "source": [
    "%%cython\n",
    "from libc.stdlib cimport malloc, free\n",
    "def wrapper(list_): \n",
    "    cdef size_t n = len(list_)\n",
    "    cdef double* data = <double*>malloc(n * sizeof(double))\n",
    "    cdef int i\n",
    "    for i in range(n): \n",
    "        data[i] = list_[i]\n",
    "    free(data)\n",
    "    return"
   ]
  },
  {
   "cell_type": "code",
   "execution_count": null,
   "id": "01f08b14",
   "metadata": {},
   "outputs": [],
   "source": [
    "%%cython\n",
    "import numpy as np\n",
    "def wrapper2(list_): \n",
    "    cdef double[:] npcopy = np.asarray(list_, np.float64,'C')\n",
    "    cdef double* data = &npcopy[0]\n",
    "    cdef size_t n = len(npcopy)\n",
    "    return"
   ]
  },
  {
   "cell_type": "code",
   "execution_count": null,
   "id": "551fb33d",
   "metadata": {},
   "outputs": [],
   "source": [
    "%timeit wrapper(l1)"
   ]
  },
  {
   "cell_type": "code",
   "execution_count": null,
   "id": "1a13589b",
   "metadata": {},
   "outputs": [],
   "source": [
    "%timeit wrapper2(l1)"
   ]
  }
 ],
 "metadata": {
  "kernelspec": {
   "display_name": "Python 3 (ipykernel)",
   "language": "python",
   "name": "python3"
  },
  "language_info": {
   "codemirror_mode": {
    "name": "ipython",
    "version": 3
   },
   "file_extension": ".py",
   "mimetype": "text/x-python",
   "name": "python",
   "nbconvert_exporter": "python",
   "pygments_lexer": "ipython3",
   "version": "3.11.0"
  }
 },
 "nbformat": 4,
 "nbformat_minor": 5
}

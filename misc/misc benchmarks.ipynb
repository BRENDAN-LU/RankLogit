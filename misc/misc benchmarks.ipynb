{
 "cells": [
  {
   "cell_type": "code",
   "execution_count": 1,
   "id": "a92c302e-8c78-475c-8df3-9521de49961d",
   "metadata": {},
   "outputs": [],
   "source": [
    "import numpy as np\n",
    "import random\n",
    "TEST_SIZE = 8"
   ]
  },
  {
   "cell_type": "code",
   "execution_count": 2,
   "id": "4990d830-ae74-4ca1-82d8-ec53a78e3f8d",
   "metadata": {},
   "outputs": [],
   "source": [
    "l1 = [random.random() for i in range (TEST_SIZE)]\n",
    "l2 = [random.random() for i in range (TEST_SIZE)]"
   ]
  },
  {
   "cell_type": "code",
   "execution_count": 3,
   "id": "7b994bf7-e4fe-443c-894f-833dc7b158b9",
   "metadata": {},
   "outputs": [],
   "source": [
    "l2pnp = np.array(l2) # pre-np-arrayed list, representing the weights"
   ]
  },
  {
   "cell_type": "code",
   "execution_count": 4,
   "id": "761d0511-ce8d-4be3-a27b-df9879253412",
   "metadata": {},
   "outputs": [
    {
     "name": "stdout",
     "output_type": "stream",
     "text": [
      "13.5 µs ± 2.43 µs per loop (mean ± std. dev. of 7 runs, 100,000 loops each)\n"
     ]
    }
   ],
   "source": [
    "%%timeit\n",
    "l1np = np.array(l1)\n",
    "prod = l1np * l2pnp\n",
    "norm = np.sum(prod)\n",
    "norm_prod = prod / norm"
   ]
  },
  {
   "cell_type": "code",
   "execution_count": 5,
   "id": "20b7d2c9-d1b4-455d-9bac-5db22c75b79c",
   "metadata": {},
   "outputs": [
    {
     "name": "stdout",
     "output_type": "stream",
     "text": [
      "2.25 µs ± 89.3 ns per loop (mean ± std. dev. of 7 runs, 100,000 loops each)\n"
     ]
    }
   ],
   "source": [
    "%%timeit\n",
    "prod2 = [a*b for a, b in zip(l1, l2)]\n",
    "norm2 = sum(prod2)\n",
    "norm_prod2 = [x/norm2 for x in prod2]"
   ]
  },
  {
   "cell_type": "code",
   "execution_count": 6,
   "id": "631e397c-dfe3-45ff-805b-00fef0ac1a16",
   "metadata": {},
   "outputs": [],
   "source": [
    "from operator import mul"
   ]
  },
  {
   "cell_type": "code",
   "execution_count": 7,
   "id": "ee859a93-e634-4aa6-9ca1-0fbb9a38f15a",
   "metadata": {},
   "outputs": [
    {
     "name": "stdout",
     "output_type": "stream",
     "text": [
      "1.11 µs ± 90.9 ns per loop (mean ± std. dev. of 7 runs, 1,000,000 loops each)\n"
     ]
    }
   ],
   "source": [
    "%%timeit\n",
    "prod3 = map(mul, l1, l2)\n",
    "norm3 = sum(prod3) \n",
    "norm_prod3 = [x/norm3 for x in prod3]"
   ]
  },
  {
   "cell_type": "code",
   "execution_count": 9,
   "id": "c9dc8a4b",
   "metadata": {},
   "outputs": [
    {
     "name": "stdout",
     "output_type": "stream",
     "text": [
      "5.53 µs ± 559 ns per loop (mean ± std. dev. of 7 runs, 100,000 loops each)\n"
     ]
    }
   ],
   "source": [
    "%timeit np.argmax(l2)"
   ]
  },
  {
   "cell_type": "code",
   "execution_count": 11,
   "id": "d8027daf",
   "metadata": {},
   "outputs": [
    {
     "name": "stdout",
     "output_type": "stream",
     "text": [
      "816 ns ± 51.8 ns per loop (mean ± std. dev. of 7 runs, 1,000,000 loops each)\n"
     ]
    }
   ],
   "source": [
    "%timeit min(range(len(l2)), key=l2.__getitem__)"
   ]
  },
  {
   "cell_type": "code",
   "execution_count": 15,
   "id": "6f6f8eb4",
   "metadata": {},
   "outputs": [
    {
     "name": "stdout",
     "output_type": "stream",
     "text": [
      "529 ns ± 27.8 ns per loop (mean ± std. dev. of 7 runs, 1,000,000 loops each)\n"
     ]
    }
   ],
   "source": [
    "%%timeit\n",
    "prod = 1\n",
    "for x in l2: \n",
    "    prod *= x"
   ]
  },
  {
   "cell_type": "code",
   "execution_count": 13,
   "id": "978e7d71",
   "metadata": {},
   "outputs": [],
   "source": [
    "from functools import reduce"
   ]
  },
  {
   "cell_type": "code",
   "execution_count": 21,
   "id": "2a773cc9",
   "metadata": {},
   "outputs": [
    {
     "name": "stdout",
     "output_type": "stream",
     "text": [
      "624 ns ± 47.2 ns per loop (mean ± std. dev. of 7 runs, 1,000,000 loops each)\n"
     ]
    }
   ],
   "source": [
    "%%timeit\n",
    "reduce(mul, l2, 1)"
   ]
  },
  {
   "cell_type": "code",
   "execution_count": 17,
   "id": "a345168e",
   "metadata": {},
   "outputs": [
    {
     "name": "stdout",
     "output_type": "stream",
     "text": [
      "1.05 µs ± 65.1 ns per loop (mean ± std. dev. of 7 runs, 1,000,000 loops each)\n"
     ]
    }
   ],
   "source": [
    "%%timeit\n",
    "reduce(lambda x, y: x*y, l2, 1)"
   ]
  },
  {
   "cell_type": "code",
   "execution_count": 19,
   "id": "821d17e7",
   "metadata": {},
   "outputs": [],
   "source": [
    "import math"
   ]
  },
  {
   "cell_type": "code",
   "execution_count": 22,
   "id": "dd593513",
   "metadata": {},
   "outputs": [
    {
     "name": "stdout",
     "output_type": "stream",
     "text": [
      "238 ns ± 24.8 ns per loop (mean ± std. dev. of 7 runs, 10,000,000 loops each)\n"
     ]
    }
   ],
   "source": [
    "%%timeit\n",
    "math.prod(l2)"
   ]
  },
  {
   "cell_type": "code",
   "execution_count": 23,
   "id": "f6aab74b",
   "metadata": {},
   "outputs": [
    {
     "name": "stdout",
     "output_type": "stream",
     "text": [
      "16.5 µs ± 1.36 µs per loop (mean ± std. dev. of 7 runs, 10,000 loops each)\n"
     ]
    }
   ],
   "source": [
    "%%timeit\n",
    "np.prod(l2)"
   ]
  }
 ],
 "metadata": {
  "kernelspec": {
   "display_name": "Python 3 (ipykernel)",
   "language": "python",
   "name": "python3"
  },
  "language_info": {
   "codemirror_mode": {
    "name": "ipython",
    "version": 3
   },
   "file_extension": ".py",
   "mimetype": "text/x-python",
   "name": "python",
   "nbconvert_exporter": "python",
   "pygments_lexer": "ipython3",
   "version": "3.11.0"
  }
 },
 "nbformat": 4,
 "nbformat_minor": 5
}
